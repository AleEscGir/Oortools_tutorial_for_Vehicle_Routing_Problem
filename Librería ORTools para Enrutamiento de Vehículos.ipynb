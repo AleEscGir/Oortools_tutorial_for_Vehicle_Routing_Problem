{
 "cells": [
  {
   "cell_type": "markdown",
   "metadata": {},
   "source": [
    "## Biblioteca OR-Tools para la resolución del Problema de Enrutamiento de Vehículos con restricción de carga y de combustible."
   ]
  },
  {
   "cell_type": "markdown",
   "metadata": {},
   "source": [
    "### La idea de este Notebook es enseñar el uso que se le puede dar a la biblioteca OR-Tools de Python para la resolución de problema de Optimización, en específico de una versión del Problema de Enrutamiento de Vehículos.\n",
    "### Primero comenzaremos enseñando cómo se utiliza la biblioteca para la resolución de Problemas de Optimización en general."
   ]
  },
  {
   "cell_type": "markdown",
   "metadata": {},
   "source": [
    "### Tomemos como ejemplo de resolución el siguiente problemas:\n",
    "### Hallar los números $x_{1}$ y $x_{2}$ que maximicen la suma $x_{1} + x_{2}$ tal que $x_{1} \\geq 0$ y $x_{2} \\geq 0$ y cumplan que:\n",
    "### $x_{1} + 2x_{2} \\leq 4$\n",
    "### $4x_{1} + 2x_{2} \\leq 12$\n",
    "### $-x_{1} + x_{2} \\leq 1$"
   ]
  },
  {
   "cell_type": "markdown",
   "metadata": {},
   "source": [
    "### Importamos de la biblioteca lo que vamos a utilizar:"
   ]
  },
  {
   "cell_type": "code",
   "execution_count": 1,
   "metadata": {},
   "outputs": [
    {
     "ename": "ModuleNotFoundError",
     "evalue": "No module named 'ortools'",
     "output_type": "error",
     "traceback": [
      "\u001b[1;31m---------------------------------------------------------------------------\u001b[0m",
      "\u001b[1;31mModuleNotFoundError\u001b[0m                       Traceback (most recent call last)",
      "\u001b[1;32md:\\Cyber\\Proyectos\\Python\\Librería ORTools\\Oortools_tutorial_for_Vehicle_Routing_Problem\\Librería ORTools para Enrutamiento de Vehículos.ipynb Cell 5\u001b[0m in \u001b[0;36m<cell line: 1>\u001b[1;34m()\u001b[0m\n\u001b[1;32m----> <a href='vscode-notebook-cell:/d%3A/Cyber/Proyectos/Python/Librer%C3%ADa%20ORTools/Oortools_tutorial_for_Vehicle_Routing_Problem/Librer%C3%ADa%20ORTools%20para%20Enrutamiento%20de%20Veh%C3%ADculos.ipynb#W4sZmlsZQ%3D%3D?line=0'>1</a>\u001b[0m \u001b[39mfrom\u001b[39;00m \u001b[39mortools\u001b[39;00m\u001b[39m.\u001b[39;00m\u001b[39mlinear_solver\u001b[39;00m \u001b[39mimport\u001b[39;00m pywraplp  \u001b[39m# Para instalarla: pip install ortools\u001b[39;00m\n\u001b[0;32m      <a href='vscode-notebook-cell:/d%3A/Cyber/Proyectos/Python/Librer%C3%ADa%20ORTools/Oortools_tutorial_for_Vehicle_Routing_Problem/Librer%C3%ADa%20ORTools%20para%20Enrutamiento%20de%20Veh%C3%ADculos.ipynb#W4sZmlsZQ%3D%3D?line=1'>2</a>\u001b[0m solver \u001b[39m=\u001b[39m pywraplp\u001b[39m.\u001b[39mSolver\u001b[39m.\u001b[39mCreateSolver(\u001b[39m'\u001b[39m\u001b[39mGlop\u001b[39m\u001b[39m'\u001b[39m)\n",
      "\u001b[1;31mModuleNotFoundError\u001b[0m: No module named 'ortools'"
     ]
    }
   ],
   "source": [
    "from ortools.linear_solver import pywraplp  # Para instalarla: pip install ortools\n",
    "solver = pywraplp.Solver.CreateSolver('Glop') # Para poder utilizar el linear solver"
   ]
  },
  {
   "cell_type": "markdown",
   "metadata": {},
   "source": [
    "### Declaración de Variables.\n",
    "### Esto se hace mediante el método NumVar, que recibe los límites inferior y superior, y el nombre con el que se identificará dicha variable (que puede ser distinto del nombre de la variable donde se guarde la instancia). En el caso de que no existe un límite superior, se utiliza el método infinity. Estos métodos responden al solver que declaramos anteriormente.\n",
    "### Nota: Además de NumVar también existe IntVar, que solo toma valors enteros"
   ]
  },
  {
   "cell_type": "code",
   "execution_count": null,
   "metadata": {},
   "outputs": [],
   "source": [
    "x_1 = solver.NumVar(0, solver.infinity(), 'x_1')\n",
    "x_2 = solver.NumVar(0, solver.infinity(), 'x_2')"
   ]
  },
  {
   "cell_type": "markdown",
   "metadata": {},
   "source": [
    "### Declaración de las Restricciones del Problema.\n",
    "### Esto se hace mediante del método Add de la instancia de solver que tenemos. La peculiaridad es que la forma de añadir las restricciones se asemeja a su planteamiento matemático. Se realiza de la siguiente forma:"
   ]
  },
  {
   "cell_type": "code",
   "execution_count": null,
   "metadata": {},
   "outputs": [
    {
     "data": {
      "text/plain": [
       "<ortools.linear_solver.pywraplp.Constraint; proxy of <Swig Object of type 'operations_research::MPConstraint *' at 0x000001AC97B90300> >"
      ]
     },
     "execution_count": 22,
     "metadata": {},
     "output_type": "execute_result"
    }
   ],
   "source": [
    "solver.Add(x_1 + 2*x_2 <= 4)\n",
    "solver.Add(4*x_1 + 2*x_2 <= 12)\n",
    "solver.Add((-1)*x_1 + x_2 <= 1)"
   ]
  },
  {
   "cell_type": "markdown",
   "metadata": {},
   "source": [
    "### Para poder saber el número de restricciones que se tiene podemos utilizar el método NumConstraints"
   ]
  },
  {
   "cell_type": "code",
   "execution_count": null,
   "metadata": {},
   "outputs": [
    {
     "data": {
      "text/plain": [
       "3"
      ]
     },
     "execution_count": 23,
     "metadata": {},
     "output_type": "execute_result"
    }
   ],
   "source": [
    "solver.NumConstraints()"
   ]
  },
  {
   "cell_type": "markdown",
   "metadata": {},
   "source": [
    "### Aplicar la Optimización del Modelo.\n",
    "### Esto se hace mediante la función Maximize (en caso de que estemos maximizando), o de la función Minimize (en caso contrario). Ambas funciones reciben por argumento la expresión matemática tal y como con las restricciones.\n",
    "### Luego le pedimos a solver que realiza la optimización con todas las características que estamos pidiendo mediante el método Solve()"
   ]
  },
  {
   "cell_type": "code",
   "execution_count": null,
   "metadata": {},
   "outputs": [
    {
     "data": {
      "text/plain": [
       "0"
      ]
     },
     "execution_count": 24,
     "metadata": {},
     "output_type": "execute_result"
    }
   ],
   "source": [
    "solver.Maximize(x_1 + x_2)\n",
    "solver.Solve()"
   ]
  },
  {
   "cell_type": "markdown",
   "metadata": {},
   "source": [
    "### Para conocer los valores utilizamos los métodos Objective().Value()."
   ]
  },
  {
   "cell_type": "code",
   "execution_count": null,
   "metadata": {},
   "outputs": [
    {
     "data": {
      "text/plain": [
       "3.333333333333333"
      ]
     },
     "execution_count": 25,
     "metadata": {},
     "output_type": "execute_result"
    }
   ],
   "source": [
    "solver.Objective().Value()"
   ]
  },
  {
   "cell_type": "markdown",
   "metadata": {},
   "source": [
    "### Y para conocer los valores de las variables se usa el método solution_value en las variables que guardamos"
   ]
  },
  {
   "cell_type": "code",
   "execution_count": null,
   "metadata": {},
   "outputs": [
    {
     "data": {
      "text/plain": [
       "2.6666666666666665"
      ]
     },
     "execution_count": 26,
     "metadata": {},
     "output_type": "execute_result"
    }
   ],
   "source": [
    "x_1.solution_value()"
   ]
  },
  {
   "cell_type": "code",
   "execution_count": null,
   "metadata": {},
   "outputs": [
    {
     "data": {
      "text/plain": [
       "0.6666666666666667"
      ]
     },
     "execution_count": 27,
     "metadata": {},
     "output_type": "execute_result"
    }
   ],
   "source": [
    "x_2.solution_value()"
   ]
  },
  {
   "cell_type": "markdown",
   "metadata": {},
   "source": [
    "### En este caso el linear solver determinó que no existía un $x_{1}$ o $x_{2} \\leq 0$ que pudiera satisfacer dichas restricciones."
   ]
  },
  {
   "cell_type": "markdown",
   "metadata": {},
   "source": [
    "## Apliquemos ahora esta librería para el Problema de Enrutamiento de Vehículos.\n"
   ]
  },
  {
   "cell_type": "markdown",
   "metadata": {},
   "source": [
    "## Planteamiento del Problema de Enrutamiento de Vehículos:"
   ]
  },
  {
   "cell_type": "markdown",
   "metadata": {},
   "source": [
    "### Se tiene una flota de vehículos en un centro, que deben satisfacer la demanda de una cierta cantidad de clientes. Cada vehículo tiene un límite de carga que puede llevar y de combustible que puede utilizar para realizar un recorrido, y cada cliente debe recibir cierta cantidad de carga."
   ]
  },
  {
   "cell_type": "markdown",
   "metadata": {},
   "source": [
    "### Una forma de afrontar el problema es utilizando optimización lineal. Definimos lo planteado como un grafo dirigido $G = (V, A)$, donde $V = {0,1,...,N}$, el conjunto de vértices, de 1 a N represetan los clientes, siendo 0 el centro del que saldrán los vehículos. A su vez $A$ = {$(i,j): i,j$ pertenece a $V$, $i \\neq j$}, es el conjunto de aristas y denotan si existe un conexión entre dos vértices del grafo.\n",
    "### Cada cliente $i$ ($1 \\leq i \\leq N$) tiene asociado una demanda de carga $d_{i}$ conocida. Se toma $d_{0} = 0$.\n",
    "### Cada arista $x_{ij}$ tiene asociado un $c_{ij}$ que representa el gasto de combustible para ir del vértice $i$ al $j$ o viceversa. Se toma como que $c_{ij}$ = $c_{ji}$ (aunque el problema se pudiera aplicar igualmente incluso si esto no se cumpliera). $x_{ij} = 1$ si existe esa arista en el grafo y 0 en caso contrario.\n",
    "### En el centro hay un cojunto de $K$ Vehículos con iguales características, cada uno con una capacidad $C_{a}$ y cantidad de combustible $C_{o}$. Se toma como que siempre $d_{i} \\leq C_{a}$ $\\forall$ $i$. Igualmente siempre $C_{ij}$ $\\leq$ $C_{o}$ $\\forall$ $i$ y $j$.\n",
    "### Se toma en el problema como que cada cliente será visitado una sola vez, y que los vehículos comienzan y terminan en el centro.\n",
    "### La idea como modelo de optimización lineal será plantear el problema para que ORTools nos devuelva un grafo que solo contenga aquellas aristas que contemplen las rutas de cada uno de los vehículos, las cuales serán fácil de analizar puesto que solo se pasa por cada vértice una sola vez.\n",
    "### No se contempla nunca la arista $x_{ij}$ donde $i = j$"
   ]
  },
  {
   "cell_type": "markdown",
   "metadata": {},
   "source": [
    "## Función Objetivo:"
   ]
  },
  {
   "cell_type": "markdown",
   "metadata": {},
   "source": [
    "$min \\sum_{i = 0}^{n}\\sum_{j = 1}^{n} c_{ij}x_{ij} $ $ (1)$ \n",
    "\n",
    "Puesto que queremos minimizar el gasto de combustible."
   ]
  },
  {
   "cell_type": "markdown",
   "metadata": {},
   "source": [
    "## Restricciones:"
   ]
  },
  {
   "cell_type": "markdown",
   "metadata": {},
   "source": [
    "$\\sum_{i = 0}^{n}\\sum_{j = 0}^{n} x_{ij}d_{i} \\leq C_{a}$ $\\forall$ $S \\subset V$ $(2)$\n",
    "\n",
    "Con esto aseguramos que nunca en un camino se exceda el límite de capacidad de los vehículos."
   ]
  },
  {
   "cell_type": "markdown",
   "metadata": {},
   "source": [
    "$\\sum_{i = 0}^{n}\\sum_{j = 0}^{n} x_{ij}c_{ij} \\leq C_{o}$ $\\forall$ $S \\subset V$ $(3)$\n",
    "\n",
    "Con esto aseguramos que nunca en un camino se esceda el límite de combustible de algún vehículo."
   ]
  },
  {
   "cell_type": "markdown",
   "metadata": {},
   "source": [
    "$\\sum_{i = 1}^{n} x_{i0} = K$ $(4)$\n",
    "\n",
    "Con esto aseguramos que siempre deben salir del Centro los K Vehículos."
   ]
  },
  {
   "cell_type": "markdown",
   "metadata": {},
   "source": [
    "$\\sum_{j = 1}^{n} x_{0j} = K$ $(5)$\n",
    "\n",
    "\n",
    "Con esto aseguramos que siempre deben regresar del Centro los K Vehículos."
   ]
  },
  {
   "cell_type": "markdown",
   "metadata": {},
   "source": [
    "$\\sum_{i = 1}^{n} x_{ij} = 1$ $\\forall$ $j$ $(6)$\n",
    "\n",
    "Con esto aseguramos que siempre se debe entrar a todos los vértices una y solo una vez."
   ]
  },
  {
   "cell_type": "markdown",
   "metadata": {},
   "source": [
    "$\\sum_{j = 1}^{n} x_{ij} = 1$ $\\forall$ $i$ $(7)$\n",
    "\n",
    "Con esto aseguramos que siempre se debe salir de todos los vértices una y solo una vez."
   ]
  },
  {
   "cell_type": "markdown",
   "metadata": {},
   "source": [
    "### Una vez mostrada las ecuaciones, solo nos resta implementar un método que resuelva de forma genérica un problema de Enrutamiento de Vehículos con dischas características.\n",
    "### ORTools afortunadamente tiene por defecto su propia forma genérica para resolver en específico el problema de enrutamiento de Vehículos, lo cual veremos a continuación.\n",
    "### Primero importamos la librerías que usaremos de ortools:"
   ]
  },
  {
   "cell_type": "code",
   "execution_count": null,
   "metadata": {},
   "outputs": [],
   "source": [
    "from ortools.constraint_solver import routing_enums_pb2\n",
    "from ortools.constraint_solver import pywrapcp"
   ]
  },
  {
   "cell_type": "markdown",
   "metadata": {},
   "source": [
    "### Ahora definimos los datos que necesitamos evaluar como modelo de enrutamiento:"
   ]
  },
  {
   "cell_type": "code",
   "execution_count": null,
   "metadata": {},
   "outputs": [],
   "source": [
    "# La cantidad de clientes:\n",
    "n = 5\n",
    "\n",
    "# La carga que necesita cada cliente:\n",
    "# El depósito se le coloca carga 0 por defecto\n",
    "di = [0, 18, 25, 16, 19, 20]\n",
    "\n",
    "# La matriz del costo de combustible de ir del punto i al punto j.\n",
    "xij = [[0, 10, 10, 10, 10, 10],\n",
    "       [10, 0, 10, 10, 10, 10],\n",
    "       [10, 10, 0, 10, 10, 10],\n",
    "       [10, 10, 10, 0, 10, 10],\n",
    "       [10, 10, 10, 10, 0, 10],\n",
    "       [10, 10, 10, 10, 10, 0]]\n",
    "\n",
    "# La cantidad de vehículos\n",
    "k = 3\n",
    "\n",
    "# El límite de combustible por vehículo\n",
    "\n",
    "co = 100\n",
    "\n",
    "# El límite de carga por vehículo:\n",
    "\n",
    "ca = 50"
   ]
  },
  {
   "cell_type": "markdown",
   "metadata": {},
   "source": [
    "### Ahora con ORTools primero definimos los valores generales del modelo a partir de la función pywrapcp.RoutingIndexManager, esta recibe las dimensiones de la matriz objetivo (incluyendo el depósito, lo cual sería n+1), el número de vehículos (k) y la posición del depósito en la matriz (en este caso la posición 0), y esto como tal se lo pasaremos al modelo de enrutamiento, que lo recibe la función pywrapcp.RoutingModel."
   ]
  },
  {
   "cell_type": "code",
   "execution_count": null,
   "metadata": {},
   "outputs": [],
   "source": [
    "manager = pywrapcp.RoutingIndexManager(n+1, k, 0)\n",
    "\n",
    "routing = pywrapcp.RoutingModel(manager)"
   ]
  },
  {
   "cell_type": "markdown",
   "metadata": {},
   "source": [
    "### Ahora pasaremos a definir nuestra función objetivo.\n",
    "### Para esto vamos a definir un transit_callback, el cual se crea mediante la función RegisterTransitCallback del routing que acabamos de definir, y recibe como argumento una función que dado dos índices le devuelva el valor de costo de las aristas de la matriz.\n",
    "### Este transit_callback se lo pasaremos a routing mediante su función SetArcCostEvaluatorOfAllVehicles, lo cual definirá los costos en la matriz como nuestra función objetivo."
   ]
  },
  {
   "cell_type": "code",
   "execution_count": null,
   "metadata": {},
   "outputs": [],
   "source": [
    "def combustible_callback(index_1, index_2):\n",
    "    # Primero tenemos que transformar los índices de las variables de la ruta guardadas en manager,\n",
    "    # a los índices de nuestra matriz de costo de combustible.\n",
    "\n",
    "    index_1 = manager.IndexToNode(index_1)\n",
    "    index_2 = manager.IndexToNode(index_2)\n",
    "    return xij[index_1][index_2]\n",
    "\n",
    "combustible_callback_index = routing.RegisterTransitCallback(combustible_callback)\n",
    "\n",
    "routing.SetArcCostEvaluatorOfAllVehicles(combustible_callback_index)\n"
   ]
  },
  {
   "cell_type": "markdown",
   "metadata": {},
   "source": [
    "### Ahora pasamos a introducir las restricciones.\n",
    "### Esto se hace mediante la función RegisterUnaryTransitCallback de routing, que de manera idéntica a la función anterior recibe una función de costo a partir de los índices, y que luego se lo pasamos a routing mediante AddDimension, que recibe el callback, la suavidad (que dejaremos en 0), la capacidad de cada vehículo, un bool que indica si comenzar directamente en 0 (en este caso lo dejaremos en True), y el nombre de la restricción."
   ]
  },
  {
   "cell_type": "code",
   "execution_count": null,
   "metadata": {},
   "outputs": [
    {
     "data": {
      "text/plain": [
       "True"
      ]
     },
     "execution_count": 32,
     "metadata": {},
     "output_type": "execute_result"
    }
   ],
   "source": [
    "def demand_callback(index):\n",
    "    index = manager.IndexToNode(index)\n",
    "    return di[index]\n",
    "\n",
    "demand_callback_index = routing.RegisterUnaryTransitCallback(demand_callback)\n",
    "\n",
    "routing.AddDimension(demand_callback_index, 0, ca, True, 'Capacity')\n"
   ]
  },
  {
   "cell_type": "markdown",
   "metadata": {},
   "source": [
    "### De manera similar añadimos la restricción del combustible, que en este caso reutilizamos el mismo RegisterTransitCallback de la función objetivo (puesto que la restricción de combustible está dada sobre la matriz a optimizar)"
   ]
  },
  {
   "cell_type": "code",
   "execution_count": null,
   "metadata": {},
   "outputs": [
    {
     "data": {
      "text/plain": [
       "True"
      ]
     },
     "execution_count": 33,
     "metadata": {},
     "output_type": "execute_result"
    }
   ],
   "source": [
    "\n",
    "routing.AddDimension(combustible_callback_index, 0, co, True, 'Combustible')"
   ]
  },
  {
   "cell_type": "markdown",
   "metadata": {},
   "source": [
    "### Ahora tomamos de la biblioteca los parámetros de búsqueda que trae y los configuramos:"
   ]
  },
  {
   "cell_type": "code",
   "execution_count": null,
   "metadata": {},
   "outputs": [],
   "source": [
    "search_parameters = pywrapcp.DefaultRoutingSearchParameters()\n",
    "search_parameters.first_solution_strategy = routing_enums_pb2.FirstSolutionStrategy.PATH_CHEAPEST_ARC\n",
    "search_parameters.local_search_metaheuristic = routing_enums_pb2.LocalSearchMetaheuristic.GUIDED_LOCAL_SEARCH\n",
    "search_parameters.time_limit.FromSeconds(1)"
   ]
  },
  {
   "cell_type": "markdown",
   "metadata": {},
   "source": [
    "### Y ahora resolvemos el problema"
   ]
  },
  {
   "cell_type": "code",
   "execution_count": null,
   "metadata": {},
   "outputs": [],
   "source": [
    "solution = routing.SolveWithParameters(search_parameters)"
   ]
  },
  {
   "cell_type": "markdown",
   "metadata": {},
   "source": [
    "### Donde en solution quedan guardadas, por cada iteración, la capacidad actual del vehículo en movimiento, el combustible actual, los movimientos de los vehículos, entre otros datos:"
   ]
  },
  {
   "cell_type": "code",
   "execution_count": null,
   "metadata": {},
   "outputs": [
    {
     "name": "stdout",
     "output_type": "stream",
     "text": [
      "Assignment(Capacity0 (0) | Capacity1 (0) | Capacity2 (16) | Capacity3 (0) | Capacity4 (20) | Capacity5 (0) | Capacity6 (0) | Capacity7 (0) | Capacity8 (18) | Capacity9 (41) | Capacity10 (39) | Combustible0 (0) | Combustible1 (10) | Combustible2 (20) | Combustible3 (10) | Combustible4 (20) | Combustible5 (10) | Combustible6 (0) | Combustible7 (0) | Combustible8 (20) | Combustible9 (30) | Combustible10 (30) | Nexts0 (1) | Nexts1 (8) | Nexts2 (9) | Nexts3 (2) | Nexts4 (10) | Nexts5 (4) | Nexts6 (3) | Nexts7 (5) | Active0 (1) | Active1 (1) | Active2 (1) | Active3 (1) | Active4 (1) | Active5 (1) | Active6 (1) | Active7 (1) | Vehicles0 (0) | Vehicles1 (0) | Vehicles2 (1) | Vehicles3 (1) | Vehicles4 (2) | Vehicles5 (2) | Vehicles6 (1) | Vehicles7 (2) | Vehicles8 (0) | Vehicles9 (1) | Vehicles10 (2) | (80))\n"
     ]
    }
   ],
   "source": [
    "print(solution)"
   ]
  },
  {
   "cell_type": "markdown",
   "metadata": {},
   "source": [
    "### Sin embargo, la solución de esta forma no está totalmente clara, por tanto vamos a transformar estos datos para que sean más legibles"
   ]
  },
  {
   "cell_type": "code",
   "execution_count": null,
   "metadata": {},
   "outputs": [
    {
     "name": "stdout",
     "output_type": "stream",
     "text": [
      "Objetive: 80\n",
      "Route for vehicle: 0\n",
      " 0 Load(0) ->  1 Load(18) ->  0 Load(18)\n",
      "Distance of the route: 20m\n",
      "Load of the route: 18\n",
      "\n",
      "Route for vehicle: 1\n",
      " 0 Load(0) ->  3 Load(16) ->  2 Load(41) ->  0 Load(41)\n",
      "Distance of the route: 30m\n",
      "Load of the route: 41\n",
      "\n",
      "Route for vehicle: 2\n",
      " 0 Load(0) ->  5 Load(20) ->  4 Load(39) ->  0 Load(39)\n",
      "Distance of the route: 30m\n",
      "Load of the route: 39\n",
      "\n",
      "Total distance of all routes: 80m\n",
      "\n",
      "Total load of all routes: 98\n",
      "\n"
     ]
    }
   ],
   "source": [
    "\n",
    "print(f'Objetive: {solution.ObjectiveValue()}')\n",
    "total_distance = 0\n",
    "total_load = 0\n",
    "\n",
    "for vehicle_id in range(k):\n",
    "    index = routing.Start(vehicle_id)\n",
    "    plan_output = 'Route for vehicle: ' + str(vehicle_id) + '\\n'\n",
    "    route_distance = 0\n",
    "    route_load = 0\n",
    "\n",
    "    while not routing.IsEnd(index):\n",
    "        node_index = manager.IndexToNode(index)\n",
    "        route_load += di[node_index]\n",
    "        plan_output += ' {0} Load({1}) -> '.format(node_index, route_load)\n",
    "        previous_index = index\n",
    "        index = solution.Value(routing.NextVar(index))\n",
    "        route_distance += routing.GetArcCostForVehicle(previous_index, index, vehicle_id)\n",
    "\n",
    "    plan_output += ' {0} Load({1})\\n'.format(manager.IndexToNode(index), route_load)\n",
    "    plan_output += 'Distance of the route: {}m\\n'.format(route_distance)\n",
    "    plan_output += 'Load of the route: {}\\n'.format(route_load)\n",
    "    print(plan_output)\n",
    "    total_distance += route_distance\n",
    "    total_load += route_load\n",
    "    \n",
    "print('Total distance of all routes: {}m\\n'.format(total_distance))\n",
    "print('Total load of all routes: {}\\n'.format(total_load))\n"
   ]
  },
  {
   "cell_type": "markdown",
   "metadata": {},
   "source": [
    "### Donde fue confeccionada la respuesta de la forma:\n",
    "### Ruta del vehículo: i\n",
    "### posición_actual Load(carga_actual) ->  próxima_posición Load(próxima carga) ->  ...\n",
    "### Distance of the route: Distancia total de la ruta\n",
    "### Load of the route: Carga total de la ruta"
   ]
  }
 ],
 "metadata": {
  "kernelspec": {
   "display_name": "Python 3",
   "language": "python",
   "name": "python3"
  },
  "language_info": {
   "codemirror_mode": {
    "name": "ipython",
    "version": 3
   },
   "file_extension": ".py",
   "mimetype": "text/x-python",
   "name": "python",
   "nbconvert_exporter": "python",
   "pygments_lexer": "ipython3",
   "version": "3.10.0"
  },
  "orig_nbformat": 2,
  "vscode": {
   "interpreter": {
    "hash": "6f52065960efd9c01b2ec1d60a5c4d050f69b3d5f630ae721b9f05d65d21db56"
   }
  }
 },
 "nbformat": 4,
 "nbformat_minor": 2
}
